{
  "nbformat": 4,
  "nbformat_minor": 0,
  "metadata": {
    "kernelspec": {
      "display_name": "Python 3",
      "language": "python",
      "name": "python3"
    },
    "language_info": {
      "codemirror_mode": {
        "name": "ipython",
        "version": 3
      },
      "file_extension": ".py",
      "mimetype": "text/x-python",
      "name": "python",
      "nbconvert_exporter": "python",
      "pygments_lexer": "ipython3",
      "version": "3.7.3"
    },
    "colab": {
      "name": "numpy_rush.ipynb",
      "provenance": [],
      "toc_visible": true
    }
  },
  "cells": [
    {
      "cell_type": "markdown",
      "metadata": {
        "id": "WgclIq2ho6zf",
        "colab_type": "text"
      },
      "source": [
        "Authors: mfrias && oldurosi"
      ]
    },
    {
      "cell_type": "markdown",
      "metadata": {
        "id": "XWFkAFAeo6zj",
        "colab_type": "text"
      },
      "source": [
        "# Part I"
      ]
    },
    {
      "cell_type": "code",
      "metadata": {
        "id": "Kto7hx2zo6zl",
        "colab_type": "code",
        "colab": {}
      },
      "source": [
        "import numpy as np\n",
        "import matplotlib.pyplot as plt\n",
        "import matplotlib.image as mpimg"
      ],
      "execution_count": 0,
      "outputs": []
    },
    {
      "cell_type": "markdown",
      "metadata": {
        "id": "chqM3Pr6vDjz",
        "colab_type": "text"
      },
      "source": [
        ""
      ]
    },
    {
      "cell_type": "markdown",
      "metadata": {
        "id": "zKDF9820o6zr",
        "colab_type": "text"
      },
      "source": [
        "<br>"
      ]
    },
    {
      "cell_type": "markdown",
      "metadata": {
        "id": "k2x4pfOVo6zs",
        "colab_type": "text"
      },
      "source": [
        "1. Create a matrix of random values of a distribution of your choice."
      ]
    },
    {
      "cell_type": "code",
      "metadata": {
        "id": "NnUAFMPTo6zu",
        "colab_type": "code",
        "colab": {}
      },
      "source": [
        "randmatrice = np.random.randint(10, size=(3,2))"
      ],
      "execution_count": 0,
      "outputs": []
    },
    {
      "cell_type": "code",
      "metadata": {
        "id": "GWMSewSVo6zx",
        "colab_type": "code",
        "outputId": "bcb0e45e-2a55-4d1d-c88a-304ee71b25e9",
        "colab": {
          "base_uri": "https://localhost:8080/",
          "height": 68
        }
      },
      "source": [
        "randmatrice"
      ],
      "execution_count": 0,
      "outputs": [
        {
          "output_type": "execute_result",
          "data": {
            "text/plain": [
              "array([[3, 3],\n",
              "       [8, 4],\n",
              "       [6, 3]])"
            ]
          },
          "metadata": {
            "tags": []
          },
          "execution_count": 44
        }
      ]
    },
    {
      "cell_type": "markdown",
      "metadata": {
        "id": "wu6IkoXZwNWy",
        "colab_type": "text"
      },
      "source": [
        ""
      ]
    },
    {
      "cell_type": "markdown",
      "metadata": {
        "id": "-NoyV_Dho6z2",
        "colab_type": "text"
      },
      "source": [
        "<br>"
      ]
    },
    {
      "cell_type": "markdown",
      "metadata": {
        "id": "8-Nzs63Mo6z3",
        "colab_type": "text"
      },
      "source": [
        "2. Create a 1-dimensional array of 12 sequential numbers and convert it to a 4x3 array."
      ]
    },
    {
      "cell_type": "code",
      "metadata": {
        "id": "hTEaD9Gqo6z_",
        "colab_type": "code",
        "colab": {}
      },
      "source": [
        "array1 = np.arange(1, 13)"
      ],
      "execution_count": 0,
      "outputs": []
    },
    {
      "cell_type": "code",
      "metadata": {
        "id": "g1O5mANro60D",
        "colab_type": "code",
        "outputId": "ef584905-6533-4ccf-accd-f05b2654e208",
        "colab": {
          "base_uri": "https://localhost:8080/",
          "height": 34
        }
      },
      "source": [
        "array1"
      ],
      "execution_count": 0,
      "outputs": [
        {
          "output_type": "execute_result",
          "data": {
            "text/plain": [
              "array([ 1,  2,  3,  4,  5,  6,  7,  8,  9, 10, 11, 12])"
            ]
          },
          "metadata": {
            "tags": []
          },
          "execution_count": 46
        }
      ]
    },
    {
      "cell_type": "code",
      "metadata": {
        "id": "t5uqWRtqo60G",
        "colab_type": "code",
        "outputId": "5e36cb89-a0c6-4f9f-8806-a0e5dbfdcfda",
        "colab": {
          "base_uri": "https://localhost:8080/",
          "height": 85
        }
      },
      "source": [
        "array1.reshape(4,3)"
      ],
      "execution_count": 0,
      "outputs": [
        {
          "output_type": "execute_result",
          "data": {
            "text/plain": [
              "array([[ 1,  2,  3],\n",
              "       [ 4,  5,  6],\n",
              "       [ 7,  8,  9],\n",
              "       [10, 11, 12]])"
            ]
          },
          "metadata": {
            "tags": []
          },
          "execution_count": 47
        }
      ]
    },
    {
      "cell_type": "markdown",
      "metadata": {
        "id": "EGDucRLmo60J",
        "colab_type": "text"
      },
      "source": [
        "<br>"
      ]
    },
    {
      "cell_type": "markdown",
      "metadata": {
        "id": "P1-jUQ56o60K",
        "colab_type": "text"
      },
      "source": [
        "3. Write a function that creates an incremental N-dimensional (nd) array of dimension (1,n) with values between 0    and 1. Use arr.shape to verify"
      ]
    },
    {
      "cell_type": "code",
      "metadata": {
        "id": "N61LYMruo60L",
        "colab_type": "code",
        "colab": {}
      },
      "source": [
        "def ndimensionArrayfunction(n):\n",
        "    return np.full((1, n), np.linspace(0, 1, n))"
      ],
      "execution_count": 0,
      "outputs": []
    },
    {
      "cell_type": "code",
      "metadata": {
        "id": "2Ww-QaOco60M",
        "colab_type": "code",
        "colab": {}
      },
      "source": [
        "formingarray = ndimensionArrayfunction(5)"
      ],
      "execution_count": 0,
      "outputs": []
    },
    {
      "cell_type": "code",
      "metadata": {
        "id": "nkUaS143o60O",
        "colab_type": "code",
        "outputId": "fc2462a9-e2d0-4afa-e86e-68d79ddf254b",
        "colab": {
          "base_uri": "https://localhost:8080/",
          "height": 34
        }
      },
      "source": [
        "formingarray"
      ],
      "execution_count": 0,
      "outputs": [
        {
          "output_type": "execute_result",
          "data": {
            "text/plain": [
              "array([[0.  , 0.25, 0.5 , 0.75, 1.  ]])"
            ]
          },
          "metadata": {
            "tags": []
          },
          "execution_count": 50
        }
      ]
    },
    {
      "cell_type": "code",
      "metadata": {
        "id": "hfal5Jfvo60Q",
        "colab_type": "code",
        "outputId": "a1a8c663-4809-4441-894d-95119ec4f3f9",
        "colab": {
          "base_uri": "https://localhost:8080/",
          "height": 34
        }
      },
      "source": [
        "formingarray.shape"
      ],
      "execution_count": 0,
      "outputs": [
        {
          "output_type": "execute_result",
          "data": {
            "text/plain": [
              "(1, 5)"
            ]
          },
          "metadata": {
            "tags": []
          },
          "execution_count": 51
        }
      ]
    },
    {
      "cell_type": "markdown",
      "metadata": {
        "id": "VM-gJWpro60T",
        "colab_type": "text"
      },
      "source": [
        "<br>"
      ]
    },
    {
      "cell_type": "markdown",
      "metadata": {
        "id": "k0GB6hbGo60V",
        "colab_type": "text"
      },
      "source": [
        "4. Generate a 10x12 array and extract row 0-4 of columns 8-12.\n"
      ]
    },
    {
      "cell_type": "code",
      "metadata": {
        "id": "jv3dnRZCo60W",
        "colab_type": "code",
        "outputId": "dc9a85f8-06c0-4ed8-e191-dcfe3efc5b7e",
        "colab": {
          "base_uri": "https://localhost:8080/",
          "height": 187
        }
      },
      "source": [
        "anotherarray = np.full((10, 12), np.linspace(0, 11, 12))\n",
        "anotherarray\n",
        "                       "
      ],
      "execution_count": 0,
      "outputs": [
        {
          "output_type": "execute_result",
          "data": {
            "text/plain": [
              "array([[ 0.,  1.,  2.,  3.,  4.,  5.,  6.,  7.,  8.,  9., 10., 11.],\n",
              "       [ 0.,  1.,  2.,  3.,  4.,  5.,  6.,  7.,  8.,  9., 10., 11.],\n",
              "       [ 0.,  1.,  2.,  3.,  4.,  5.,  6.,  7.,  8.,  9., 10., 11.],\n",
              "       [ 0.,  1.,  2.,  3.,  4.,  5.,  6.,  7.,  8.,  9., 10., 11.],\n",
              "       [ 0.,  1.,  2.,  3.,  4.,  5.,  6.,  7.,  8.,  9., 10., 11.],\n",
              "       [ 0.,  1.,  2.,  3.,  4.,  5.,  6.,  7.,  8.,  9., 10., 11.],\n",
              "       [ 0.,  1.,  2.,  3.,  4.,  5.,  6.,  7.,  8.,  9., 10., 11.],\n",
              "       [ 0.,  1.,  2.,  3.,  4.,  5.,  6.,  7.,  8.,  9., 10., 11.],\n",
              "       [ 0.,  1.,  2.,  3.,  4.,  5.,  6.,  7.,  8.,  9., 10., 11.],\n",
              "       [ 0.,  1.,  2.,  3.,  4.,  5.,  6.,  7.,  8.,  9., 10., 11.]])"
            ]
          },
          "metadata": {
            "tags": []
          },
          "execution_count": 52
        }
      ]
    },
    {
      "cell_type": "markdown",
      "metadata": {
        "id": "aw8u3UdDo60Z",
        "colab_type": "text"
      },
      "source": [
        "<br>"
      ]
    },
    {
      "cell_type": "code",
      "metadata": {
        "id": "Vh1J6X6ho60Z",
        "colab_type": "code",
        "outputId": "218327a6-d6d3-4c3e-c00e-169dde776b8a",
        "colab": {
          "base_uri": "https://localhost:8080/",
          "height": 102
        }
      },
      "source": [
        "subarray = anotherarray[0:5:1, [7,8,9,10,11]]\n",
        "subarray"
      ],
      "execution_count": 0,
      "outputs": [
        {
          "output_type": "execute_result",
          "data": {
            "text/plain": [
              "array([[ 7.,  8.,  9., 10., 11.],\n",
              "       [ 7.,  8.,  9., 10., 11.],\n",
              "       [ 7.,  8.,  9., 10., 11.],\n",
              "       [ 7.,  8.,  9., 10., 11.],\n",
              "       [ 7.,  8.,  9., 10., 11.]])"
            ]
          },
          "metadata": {
            "tags": []
          },
          "execution_count": 53
        }
      ]
    },
    {
      "cell_type": "markdown",
      "metadata": {
        "id": "YmzQaCFwo60b",
        "colab_type": "text"
      },
      "source": [
        "<br>"
      ]
    },
    {
      "cell_type": "markdown",
      "metadata": {
        "id": "RGxXaNjQo60b",
        "colab_type": "text"
      },
      "source": [
        "5. Using the function in Q3, get m vectors and bind them together (to have a m x n)\n",
        "matrix. Plot the matrix with matplotlib’s imshow\n"
      ]
    },
    {
      "cell_type": "code",
      "metadata": {
        "id": "513Sos4Ho60c",
        "colab_type": "code",
        "colab": {}
      },
      "source": [
        "size_1 = 5\n",
        "size_2 = 5\n",
        "toplot = np.full((size_1, size_2), ndimensionArrayfunction(size_1))"
      ],
      "execution_count": 0,
      "outputs": []
    },
    {
      "cell_type": "code",
      "metadata": {
        "id": "7xs68M3No60e",
        "colab_type": "code",
        "outputId": "20b3e1f6-8ab8-4ec4-c878-17d288fec233",
        "colab": {
          "base_uri": "https://localhost:8080/",
          "height": 102
        }
      },
      "source": [
        "toplot"
      ],
      "execution_count": 0,
      "outputs": [
        {
          "output_type": "execute_result",
          "data": {
            "text/plain": [
              "array([[0.  , 0.25, 0.5 , 0.75, 1.  ],\n",
              "       [0.  , 0.25, 0.5 , 0.75, 1.  ],\n",
              "       [0.  , 0.25, 0.5 , 0.75, 1.  ],\n",
              "       [0.  , 0.25, 0.5 , 0.75, 1.  ],\n",
              "       [0.  , 0.25, 0.5 , 0.75, 1.  ]])"
            ]
          },
          "metadata": {
            "tags": []
          },
          "execution_count": 55
        }
      ]
    },
    {
      "cell_type": "code",
      "metadata": {
        "id": "QoExM0RBo60f",
        "colab_type": "code",
        "colab": {}
      },
      "source": [
        "theplot = np.matrix(toplot)"
      ],
      "execution_count": 0,
      "outputs": []
    },
    {
      "cell_type": "code",
      "metadata": {
        "id": "o6aJp62Xo60i",
        "colab_type": "code",
        "outputId": "53a542db-f4e4-45f2-872e-0d08ddb431cc",
        "colab": {
          "base_uri": "https://localhost:8080/",
          "height": 102
        }
      },
      "source": [
        "theplot"
      ],
      "execution_count": 0,
      "outputs": [
        {
          "output_type": "execute_result",
          "data": {
            "text/plain": [
              "matrix([[0.  , 0.25, 0.5 , 0.75, 1.  ],\n",
              "        [0.  , 0.25, 0.5 , 0.75, 1.  ],\n",
              "        [0.  , 0.25, 0.5 , 0.75, 1.  ],\n",
              "        [0.  , 0.25, 0.5 , 0.75, 1.  ],\n",
              "        [0.  , 0.25, 0.5 , 0.75, 1.  ]])"
            ]
          },
          "metadata": {
            "tags": []
          },
          "execution_count": 57
        }
      ]
    },
    {
      "cell_type": "code",
      "metadata": {
        "id": "tHlYjWHco60j",
        "colab_type": "code",
        "outputId": "27f7500e-1c1d-4e9a-b308-73e8a620401f",
        "colab": {
          "base_uri": "https://localhost:8080/",
          "height": 282
        }
      },
      "source": [
        "plt.imshow(theplot)"
      ],
      "execution_count": 0,
      "outputs": [
        {
          "output_type": "execute_result",
          "data": {
            "text/plain": [
              "<matplotlib.image.AxesImage at 0x7f4fd4d8cb70>"
            ]
          },
          "metadata": {
            "tags": []
          },
          "execution_count": 58
        },
        {
          "output_type": "display_data",
          "data": {
            "image/png": "[encoded data removed]",
            "text/plain": [
              "<Figure size 432x288 with 1 Axes>"
            ]
          },
          "metadata": {
            "tags": []
          }
        }
      ]
    },
    {
      "cell_type": "markdown",
      "metadata": {
        "id": "QcJaJvEno60l",
        "colab_type": "text"
      },
      "source": [
        "Changing the Values to see hown it works"
      ]
    },
    {
      "cell_type": "code",
      "metadata": {
        "id": "8G588ATpo60l",
        "colab_type": "code",
        "colab": {}
      },
      "source": [
        "size_1 = 100\n",
        "size_2 = 100\n",
        "atoplot = np.full((size_1, size_2), ndimensionArrayfunction(size_1))"
      ],
      "execution_count": 0,
      "outputs": []
    },
    {
      "cell_type": "code",
      "metadata": {
        "id": "FN1081pEo60m",
        "colab_type": "code",
        "outputId": "466479ff-9cf4-4039-a933-d0b9596b408f",
        "colab": {
          "base_uri": "https://localhost:8080/",
          "height": 285
        }
      },
      "source": [
        "atoplot\n",
        "atheplot = np.matrix(atoplot)\n",
        "theplot\n",
        "plt.imshow(atheplot)"
      ],
      "execution_count": 0,
      "outputs": [
        {
          "output_type": "execute_result",
          "data": {
            "text/plain": [
              "<matplotlib.image.AxesImage at 0x7f4fd4ce42e8>"
            ]
          },
          "metadata": {
            "tags": []
          },
          "execution_count": 60
        },
        {
          "output_type": "display_data",
          "data": {
            "image/png": "[encoded data removed]",
            "text/plain": [
              "<Figure size 432x288 with 1 Axes>"
            ]
          },
          "metadata": {
            "tags": []
          }
        }
      ]
    },
    {
      "cell_type": "code",
      "metadata": {
        "id": "VYyvpVZNo60o",
        "colab_type": "code",
        "outputId": "488af835-a968-45bc-9680-d08c4c77d249",
        "colab": {
          "base_uri": "https://localhost:8080/",
          "height": 86
        }
      },
      "source": [
        "size_2 = 2005\n",
        "btoplot = np.full((size_1, size_2), ndimensionArrayfunction(size_2))\n",
        "btheplot = np.matrix(btoplot)\n",
        "plt.imshow(btheplot)"
      ],
      "execution_count": 0,
      "outputs": [
        {
          "output_type": "execute_result",
          "data": {
            "text/plain": [
              "<matplotlib.image.AxesImage at 0x7f4fd4cb5ba8>"
            ]
          },
          "metadata": {
            "tags": []
          },
          "execution_count": 61
        },
        {
          "output_type": "display_data",
          "data": {
            "image/png": "[encoded data removed]",
            "text/plain": [
              "<Figure size 432x288 with 1 Axes>"
            ]
          },
          "metadata": {
            "tags": []
          }
        }
      ]
    },
    {
      "cell_type": "code",
      "metadata": {
        "id": "laAl3VYgo60p",
        "colab_type": "code",
        "colab": {}
      },
      "source": [
        "#note it got smooth because of the pixel plot value"
      ],
      "execution_count": 0,
      "outputs": []
    },
    {
      "cell_type": "markdown",
      "metadata": {
        "id": "a13ERe_go60q",
        "colab_type": "text"
      },
      "source": [
        "<br>"
      ]
    },
    {
      "cell_type": "markdown",
      "metadata": {
        "id": "RVqlApJvo60r",
        "colab_type": "text"
      },
      "source": [
        "6. Multiply the resulting matrix from Q5 with the matrix of a picture of your choice. Plot the resulting matrix."
      ]
    },
    {
      "cell_type": "code",
      "metadata": {
        "id": "cYOJrAP7o60r",
        "colab_type": "code",
        "colab": {}
      },
      "source": [
        "img = plt.imread('./test.png') "
      ],
      "execution_count": 0,
      "outputs": []
    },
    {
      "cell_type": "code",
      "metadata": {
        "id": "uBEiEZwzo60s",
        "colab_type": "code",
        "outputId": "b9dab6b7-74b4-4b43-f782-98ae86710fa1",
        "colab": {
          "base_uri": "https://localhost:8080/",
          "height": 867
        }
      },
      "source": [
        "print(\"Main Image\")\n",
        "print(img) #to show the picture's matrices"
      ],
      "execution_count": 0,
      "outputs": [
        {
          "output_type": "stream",
          "text": [
            "Main Image\n",
            "[[[0. 0. 0. 0.]\n",
            "  [0. 0. 0. 0.]\n",
            "  [0. 0. 0. 0.]\n",
            "  ...\n",
            "  [0. 0. 0. 0.]\n",
            "  [0. 0. 0. 0.]\n",
            "  [0. 0. 0. 0.]]\n",
            "\n",
            " [[0. 0. 0. 0.]\n",
            "  [0. 0. 0. 0.]\n",
            "  [0. 0. 0. 0.]\n",
            "  ...\n",
            "  [0. 0. 0. 0.]\n",
            "  [0. 0. 0. 0.]\n",
            "  [0. 0. 0. 0.]]\n",
            "\n",
            " [[0. 0. 0. 0.]\n",
            "  [0. 0. 0. 0.]\n",
            "  [0. 0. 0. 0.]\n",
            "  ...\n",
            "  [0. 0. 0. 0.]\n",
            "  [0. 0. 0. 0.]\n",
            "  [0. 0. 0. 0.]]\n",
            "\n",
            " ...\n",
            "\n",
            " [[0. 0. 0. 0.]\n",
            "  [0. 0. 0. 0.]\n",
            "  [0. 0. 0. 0.]\n",
            "  ...\n",
            "  [0. 0. 0. 0.]\n",
            "  [0. 0. 0. 0.]\n",
            "  [0. 0. 0. 0.]]\n",
            "\n",
            " [[0. 0. 0. 0.]\n",
            "  [0. 0. 0. 0.]\n",
            "  [0. 0. 0. 0.]\n",
            "  ...\n",
            "  [0. 0. 0. 0.]\n",
            "  [0. 0. 0. 0.]\n",
            "  [0. 0. 0. 0.]]\n",
            "\n",
            " [[0. 0. 0. 0.]\n",
            "  [0. 0. 0. 0.]\n",
            "  [0. 0. 0. 0.]\n",
            "  ...\n",
            "  [0. 0. 0. 0.]\n",
            "  [0. 0. 0. 0.]\n",
            "  [0. 0. 0. 0.]]]\n"
          ],
          "name": "stdout"
        }
      ]
    },
    {
      "cell_type": "code",
      "metadata": {
        "id": "Ldy8ptQ4o60t",
        "colab_type": "code",
        "outputId": "78066d15-61bc-435b-ee6d-7fde14cfcaeb",
        "colab": {
          "base_uri": "https://localhost:8080/",
          "height": 285
        }
      },
      "source": [
        "plt.imshow(img)"
      ],
      "execution_count": 0,
      "outputs": [
        {
          "output_type": "execute_result",
          "data": {
            "text/plain": [
              "<matplotlib.image.AxesImage at 0x7f4fd4c934a8>"
            ]
          },
          "metadata": {
            "tags": []
          },
          "execution_count": 65
        },
        {
          "output_type": "display_data",
          "data": {
            "image/png": "[encoded data removed]",
            "text/plain": [
              "<Figure size 432x288 with 1 Axes>"
            ]
          },
          "metadata": {
            "tags": []
          }
        }
      ]
    },
    {
      "cell_type": "code",
      "metadata": {
        "id": "03W1mXl7o60u",
        "colab_type": "code",
        "outputId": "73eea43a-0d52-4b84-ac18-e2f51554002a",
        "colab": {
          "base_uri": "https://localhost:8080/",
          "height": 34
        }
      },
      "source": [
        "img.shape"
      ],
      "execution_count": 0,
      "outputs": [
        {
          "output_type": "execute_result",
          "data": {
            "text/plain": [
              "(100, 100, 4)"
            ]
          },
          "metadata": {
            "tags": []
          },
          "execution_count": 66
        }
      ]
    },
    {
      "cell_type": "code",
      "metadata": {
        "id": "7eA79tvNo60v",
        "colab_type": "code",
        "outputId": "f9091b01-29c6-4e4e-efbe-a28261ea1839",
        "colab": {
          "base_uri": "https://localhost:8080/",
          "height": 285
        }
      },
      "source": [
        "for i in range(0, 4):\n",
        "    img[:,:,i] *= atheplot\n",
        "plt.imshow(img)"
      ],
      "execution_count": 0,
      "outputs": [
        {
          "output_type": "execute_result",
          "data": {
            "text/plain": [
              "<matplotlib.image.AxesImage at 0x7f4fd4bdc940>"
            ]
          },
          "metadata": {
            "tags": []
          },
          "execution_count": 67
        },
        {
          "output_type": "display_data",
          "data": {
            "image/png": "[encoded data removed]",
            "text/plain": [
              "<Figure size 432x288 with 1 Axes>"
            ]
          },
          "metadata": {
            "tags": []
          }
        }
      ]
    },
    {
      "cell_type": "code",
      "metadata": {
        "id": "shjXPu1wo60x",
        "colab_type": "code",
        "colab": {}
      },
      "source": [
        "#above is gotten from a sample, so testing the above by giving my new dimensions"
      ],
      "execution_count": 0,
      "outputs": []
    },
    {
      "cell_type": "code",
      "metadata": {
        "id": "1kQsl6pjo60y",
        "colab_type": "code",
        "outputId": "c4a7d0cc-32d4-4b3d-dcaf-58f37549e7fe",
        "colab": {
          "base_uri": "https://localhost:8080/",
          "height": 327
        }
      },
      "source": [
        "imgmain = plt.imread('./test2.png') "
      ],
      "execution_count": 0,
      "outputs": [
        {
          "output_type": "error",
          "ename": "RuntimeError",
          "evalue": "ignored",
          "traceback": [
            "\u001b[0;31m---------------------------------------------------------------------------\u001b[0m",
            "\u001b[0;31mRuntimeError\u001b[0m                              Traceback (most recent call last)",
            "\u001b[0;32m<ipython-input-69-1bffbf874355>\u001b[0m in \u001b[0;36m<module>\u001b[0;34m()\u001b[0m\n\u001b[0;32m----> 1\u001b[0;31m \u001b[0mimgmain\u001b[0m \u001b[0;34m=\u001b[0m \u001b[0mplt\u001b[0m\u001b[0;34m.\u001b[0m\u001b[0mimread\u001b[0m\u001b[0;34m(\u001b[0m\u001b[0;34m'./test2.png'\u001b[0m\u001b[0;34m)\u001b[0m\u001b[0;34m\u001b[0m\u001b[0;34m\u001b[0m\u001b[0m\n\u001b[0m",
            "\u001b[0;32m/usr/local/lib/python3.6/dist-packages/matplotlib/pyplot.py\u001b[0m in \u001b[0;36mimread\u001b[0;34m(fname, format)\u001b[0m\n\u001b[1;32m   2126\u001b[0m \u001b[0;34m@\u001b[0m\u001b[0mdocstring\u001b[0m\u001b[0;34m.\u001b[0m\u001b[0mcopy\u001b[0m\u001b[0;34m(\u001b[0m\u001b[0mmatplotlib\u001b[0m\u001b[0;34m.\u001b[0m\u001b[0mimage\u001b[0m\u001b[0;34m.\u001b[0m\u001b[0mimread\u001b[0m\u001b[0;34m)\u001b[0m\u001b[0;34m\u001b[0m\u001b[0;34m\u001b[0m\u001b[0m\n\u001b[1;32m   2127\u001b[0m \u001b[0;32mdef\u001b[0m \u001b[0mimread\u001b[0m\u001b[0;34m(\u001b[0m\u001b[0mfname\u001b[0m\u001b[0;34m,\u001b[0m \u001b[0mformat\u001b[0m\u001b[0;34m=\u001b[0m\u001b[0;32mNone\u001b[0m\u001b[0;34m)\u001b[0m\u001b[0;34m:\u001b[0m\u001b[0;34m\u001b[0m\u001b[0;34m\u001b[0m\u001b[0m\n\u001b[0;32m-> 2128\u001b[0;31m     \u001b[0;32mreturn\u001b[0m \u001b[0mmatplotlib\u001b[0m\u001b[0;34m.\u001b[0m\u001b[0mimage\u001b[0m\u001b[0;34m.\u001b[0m\u001b[0mimread\u001b[0m\u001b[0;34m(\u001b[0m\u001b[0mfname\u001b[0m\u001b[0;34m,\u001b[0m \u001b[0mformat\u001b[0m\u001b[0;34m)\u001b[0m\u001b[0;34m\u001b[0m\u001b[0;34m\u001b[0m\u001b[0m\n\u001b[0m\u001b[1;32m   2129\u001b[0m \u001b[0;34m\u001b[0m\u001b[0m\n\u001b[1;32m   2130\u001b[0m \u001b[0;34m\u001b[0m\u001b[0m\n",
            "\u001b[0;32m/usr/local/lib/python3.6/dist-packages/matplotlib/image.py\u001b[0m in \u001b[0;36mimread\u001b[0;34m(fname, format)\u001b[0m\n\u001b[1;32m   1432\u001b[0m         \u001b[0;32melse\u001b[0m\u001b[0;34m:\u001b[0m\u001b[0;34m\u001b[0m\u001b[0;34m\u001b[0m\u001b[0m\n\u001b[1;32m   1433\u001b[0m             \u001b[0;32mwith\u001b[0m \u001b[0mopen\u001b[0m\u001b[0;34m(\u001b[0m\u001b[0mfname\u001b[0m\u001b[0;34m,\u001b[0m \u001b[0;34m'rb'\u001b[0m\u001b[0;34m)\u001b[0m \u001b[0;32mas\u001b[0m \u001b[0mfd\u001b[0m\u001b[0;34m:\u001b[0m\u001b[0;34m\u001b[0m\u001b[0;34m\u001b[0m\u001b[0m\n\u001b[0;32m-> 1434\u001b[0;31m                 \u001b[0;32mreturn\u001b[0m \u001b[0mhandler\u001b[0m\u001b[0;34m(\u001b[0m\u001b[0mfd\u001b[0m\u001b[0;34m)\u001b[0m\u001b[0;34m\u001b[0m\u001b[0;34m\u001b[0m\u001b[0m\n\u001b[0m\u001b[1;32m   1435\u001b[0m     \u001b[0;32melse\u001b[0m\u001b[0;34m:\u001b[0m\u001b[0;34m\u001b[0m\u001b[0;34m\u001b[0m\u001b[0m\n\u001b[1;32m   1436\u001b[0m         \u001b[0;32mreturn\u001b[0m \u001b[0mhandler\u001b[0m\u001b[0;34m(\u001b[0m\u001b[0mfname\u001b[0m\u001b[0;34m)\u001b[0m\u001b[0;34m\u001b[0m\u001b[0;34m\u001b[0m\u001b[0m\n",
            "\u001b[0;32m/usr/local/lib/python3.6/dist-packages/matplotlib/image.py\u001b[0m in \u001b[0;36mread_png\u001b[0;34m(*args, **kwargs)\u001b[0m\n\u001b[1;32m   1388\u001b[0m     \u001b[0;32mdef\u001b[0m \u001b[0mread_png\u001b[0m\u001b[0;34m(\u001b[0m\u001b[0;34m*\u001b[0m\u001b[0margs\u001b[0m\u001b[0;34m,\u001b[0m \u001b[0;34m**\u001b[0m\u001b[0mkwargs\u001b[0m\u001b[0;34m)\u001b[0m\u001b[0;34m:\u001b[0m\u001b[0;34m\u001b[0m\u001b[0;34m\u001b[0m\u001b[0m\n\u001b[1;32m   1389\u001b[0m         \u001b[0;32mfrom\u001b[0m \u001b[0mmatplotlib\u001b[0m \u001b[0;32mimport\u001b[0m \u001b[0m_png\u001b[0m\u001b[0;34m\u001b[0m\u001b[0;34m\u001b[0m\u001b[0m\n\u001b[0;32m-> 1390\u001b[0;31m         \u001b[0;32mreturn\u001b[0m \u001b[0m_png\u001b[0m\u001b[0;34m.\u001b[0m\u001b[0mread_png\u001b[0m\u001b[0;34m(\u001b[0m\u001b[0;34m*\u001b[0m\u001b[0margs\u001b[0m\u001b[0;34m,\u001b[0m \u001b[0;34m**\u001b[0m\u001b[0mkwargs\u001b[0m\u001b[0;34m)\u001b[0m\u001b[0;34m\u001b[0m\u001b[0;34m\u001b[0m\u001b[0m\n\u001b[0m\u001b[1;32m   1391\u001b[0m \u001b[0;34m\u001b[0m\u001b[0m\n\u001b[1;32m   1392\u001b[0m     \u001b[0mhandlers\u001b[0m \u001b[0;34m=\u001b[0m \u001b[0;34m{\u001b[0m\u001b[0;34m'png'\u001b[0m\u001b[0;34m:\u001b[0m \u001b[0mread_png\u001b[0m\u001b[0;34m,\u001b[0m \u001b[0;34m}\u001b[0m\u001b[0;34m\u001b[0m\u001b[0;34m\u001b[0m\u001b[0m\n",
            "\u001b[0;31mRuntimeError\u001b[0m: error setting jump"
          ]
        }
      ]
    },
    {
      "cell_type": "code",
      "metadata": {
        "id": "tbKFOKMBo60z",
        "colab_type": "code",
        "colab": {}
      },
      "source": [
        "imgmain"
      ],
      "execution_count": 0,
      "outputs": []
    },
    {
      "cell_type": "code",
      "metadata": {
        "id": "VDEN4gIqo600",
        "colab_type": "code",
        "colab": {}
      },
      "source": [
        "imgmain.shape"
      ],
      "execution_count": 0,
      "outputs": []
    },
    {
      "cell_type": "code",
      "metadata": {
        "id": "tEy6C3jco601",
        "colab_type": "code",
        "colab": {}
      },
      "source": [
        "size_1 = 4096\n",
        "size_2 = 3276\n",
        "newplot = np.full((size_1, size_2), ndimensionArrayfunction(size_2))\n",
        "thenewplot = np.matrix(newplot)"
      ],
      "execution_count": 0,
      "outputs": []
    },
    {
      "cell_type": "code",
      "metadata": {
        "id": "WQq1dvARo602",
        "colab_type": "code",
        "colab": {}
      },
      "source": [
        "plt.imshow(imgmain)"
      ],
      "execution_count": 0,
      "outputs": []
    },
    {
      "cell_type": "code",
      "metadata": {
        "id": "gzDkRveno603",
        "colab_type": "code",
        "colab": {}
      },
      "source": [
        "for i in range(0, 3):\n",
        "    imgmain[:,:,i] *= thenewplot\n",
        "plt.imshow(imgmain)"
      ],
      "execution_count": 0,
      "outputs": []
    },
    {
      "cell_type": "markdown",
      "metadata": {
        "id": "XTMFmoUio604",
        "colab_type": "text"
      },
      "source": [
        "<br>"
      ]
    },
    {
      "cell_type": "markdown",
      "metadata": {
        "id": "D2O2YPzdo605",
        "colab_type": "text"
      },
      "source": [
        "# Part II"
      ]
    },
    {
      "cell_type": "markdown",
      "metadata": {
        "id": "dgBBOfsPuxhq",
        "colab_type": "text"
      },
      "source": [
        "Filters.\n",
        "Image editing / processing is done by changing the values of the matrix (pixel by pixel).\n",
        "In this section you will code FOUR (non-grayscale) commonly used image filters."
      ]
    },
    {
      "cell_type": "code",
      "metadata": {
        "id": "ktVMihX7VC20",
        "colab_type": "code",
        "colab": {}
      },
      "source": [
        "def getCenter(image):\n",
        "    center = [np.floor(len(image)    / 2), np.floor(len(image[0]) / 2)]\n",
        "    return (center)"
      ],
      "execution_count": 0,
      "outputs": []
    },
    {
      "cell_type": "code",
      "metadata": {
        "id": "phJeFfy8VD-W",
        "colab_type": "code",
        "colab": {}
      },
      "source": [
        "def vignette(original, offset):\n",
        "    image = np.copy(original)\n",
        "    \n",
        "    center = getCenter(image)\n",
        "    \n",
        "    # Iterate rows\n",
        "    for x, row in enumerate(image):\n",
        "        \n",
        "        # Iterate columns\n",
        "        for y, pixel in enumerate(row):\n",
        "            \n",
        "            # Determine scale (rate of fade)\n",
        "            scale = darkenPercent(center[0], center[1], x, y, offset)            \n",
        "            \n",
        "            # Iterate colors\n",
        "            for i in range(0, 3):\n",
        "                image[x][y][i] = image[x][y][i] * scale;\n",
        "                \n",
        "    return image;"
      ],
      "execution_count": 0,
      "outputs": []
    },
    {
      "cell_type": "code",
      "metadata": {
        "id": "i2lEW5jZVGB-",
        "colab_type": "code",
        "colab": {}
      },
      "source": [
        "def darkenPercent(x1, y1, x2, y2):\n",
        "    \n",
        "    # Distance Formula: Distance in pixels between 2 points\n",
        "    distanceToCenterPixel = np.sqrt(np.power((x2 - x1), 2) + np.power((y2 - y1), 2));\n",
        "    \n",
        "    # Area un-effected by shading\n",
        "    offset = 0.9;\n",
        "\n",
        "    # Calculate float (Scale by the max distance - x1 in this case)\n",
        "    result = (1 + offset - (distanceToCenterPixel / x1));\n",
        "\n",
        "    # Ensure result is within scaling limits.\n",
        "    if result < 0:\n",
        "        return 0;\n",
        "    elif result > 1:\n",
        "        return 1;\n",
        "    else:\n",
        "        return result;"
      ],
      "execution_count": 0,
      "outputs": []
    },
    {
      "cell_type": "code",
      "metadata": {
        "id": "iecIU1yMVI6V",
        "colab_type": "code",
        "colab": {}
      },
      "source": [
        "def tint(image, r, g, b):\n",
        "\n",
        "    # Create accumulated output\n",
        "    acc = np.copy(image)\n",
        "    \n",
        "    for x in range(0, acc.shape[0]):\n",
        "        for y in range(0, acc.shape[1]):\n",
        "            \n",
        "            # Scale each color channel.\n",
        "            # Reduce Blue, while keeping\n",
        "            # Red and Green (yellow) close\n",
        "            # to their original intensities\n",
        "            acc[x][y][0] = acc[x][y][0] * r\n",
        "            acc[x][y][1] = acc[x][y][1] * g\n",
        "            acc[x][y][2] = acc[x][y][2] * b\n",
        "    \n",
        "    return acc;"
      ],
      "execution_count": 0,
      "outputs": []
    },
    {
      "cell_type": "markdown",
      "metadata": {
        "id": "EWDI-sC7VLjd",
        "colab_type": "text"
      },
      "source": [
        "Yellow tint = 1, 0.9, 0.75"
      ]
    },
    {
      "cell_type": "code",
      "metadata": {
        "id": "BvEzvW1RVhZJ",
        "colab_type": "code",
        "colab": {}
      },
      "source": [
        "testimg = plt.imread('./guy.png')\n",
        "testimg.shape"
      ],
      "execution_count": 0,
      "outputs": []
    },
    {
      "cell_type": "code",
      "metadata": {
        "id": "90DhQnmHVfVq",
        "colab_type": "code",
        "colab": {}
      },
      "source": [
        "plt.imshow(testimg)"
      ],
      "execution_count": 0,
      "outputs": []
    },
    {
      "cell_type": "code",
      "metadata": {
        "id": "SovxL1xLVdLl",
        "colab_type": "code",
        "colab": {}
      },
      "source": [
        "plt.imshow(tint(testimg, 1, 0.9, 0.75))"
      ],
      "execution_count": 0,
      "outputs": []
    }
  ]
}